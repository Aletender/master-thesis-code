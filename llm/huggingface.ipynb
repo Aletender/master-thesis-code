{
 "cells": [
  {
   "metadata": {
    "ExecuteTime": {
     "end_time": "2025-06-07T12:57:04.635053Z",
     "start_time": "2025-06-07T12:57:04.040016Z"
    }
   },
   "cell_type": "code",
   "source": [
    "import os\n",
    "import torch\n",
    "from fastapi import FastAPI\n",
    "from fastapi.middleware.cors import CORSMiddleware\n",
    "from pydantic import BaseModel\n",
    "from transformers import pipeline\n",
    "from huggingface_hub import login\n",
    "from functools import lru_cache\n",
    "from typing import Dict\n",
    "\n",
    "# =========================\n",
    "# Initialisierung\n",
    "# =========================\n",
    "app = FastAPI()\n",
    "\n",
    "# CORS aktivieren (für Frontend-Zugriff)\n",
    "app.add_middleware(\n",
    "    CORSMiddleware,\n",
    "    allow_origins=[\"*\"],  # z.B. [\"http://localhost:3000\"]\n",
    "    allow_credentials=True,\n",
    "    allow_methods=[\"*\"],\n",
    "    allow_headers=[\"*\"],\n",
    ")\n",
    "\n",
    "# Optional: Login bei Hugging Face (wenn Token gesetzt ist)\n",
    "hf_token = os.getenv(\"HF_TOKEN\")\n",
    "if hf_token:\n",
    "    login(token=hf_token)\n",
    "else:\n",
    "    print(\"Kein Hugging Face Token gesetzt – Modell wird ggf. limitiert geladen.\")\n",
    "\n",
    "\n",
    "# =========================\n",
    "# Eingabe-Schema für POST\n",
    "# =========================\n",
    "class PromptRequest(BaseModel):\n",
    "    prompt: str\n",
    "    max_new_tokens: int = 100\n",
    "    temperature: float = 0.8\n",
    "    top_p: float = 0.95\n",
    "    do_sample: bool = True\n",
    "\n",
    "\n",
    "# =========================\n",
    "# Lazy Load: Text-Pipeline\n",
    "# =========================\n",
    "@lru_cache()\n",
    "def get_pipeline():\n",
    "    print(\"Lade Textgenerierungs-Pipeline...\")\n",
    "    return pipeline(\n",
    "        \"text-generation\",\n",
    "        model=\"microsoft/phi-2\",\n",
    "        device=0 if torch.cuda.is_available() else -1\n",
    "    )\n",
    "\n",
    "\n",
    "# =========================\n",
    "# API-Endpunkte\n",
    "# =========================\n",
    "@app.post(\"/generate\", response_model=Dict[str, str])\n",
    "async def generate_text(req: PromptRequest):\n",
    "    pipe = get_pipeline()\n",
    "    output = pipe(\n",
    "        req.prompt,\n",
    "        max_new_tokens=req.max_new_tokens,\n",
    "        temperature=req.temperature,\n",
    "        top_p=req.top_p,\n",
    "        do_sample=req.do_sample\n",
    "    )\n",
    "    return {\"result\": output[0][\"generated_text\"]}\n",
    "\n",
    "\n",
    "@app.get(\"/\")\n",
    "def root():\n",
    "    return {\"message\": \"LLM API is running!\"}\n",
    "\n",
    "\n",
    "@app.get(\"/health\")\n",
    "def health():\n",
    "    return {\"status\": \"ok\"}\n"
   ],
   "id": "cc77cba4c4a0a23",
   "outputs": [
    {
     "ename": "ModuleNotFoundError",
     "evalue": "No module named 'torch'",
     "output_type": "error",
     "traceback": [
      "\u001B[31m---------------------------------------------------------------------------\u001B[39m",
      "\u001B[31mModuleNotFoundError\u001B[39m                       Traceback (most recent call last)",
      "\u001B[36mCell\u001B[39m\u001B[36m \u001B[39m\u001B[32mIn[1]\u001B[39m\u001B[32m, line 2\u001B[39m\n\u001B[32m      1\u001B[39m \u001B[38;5;28;01mimport\u001B[39;00m\u001B[38;5;250m \u001B[39m\u001B[34;01mos\u001B[39;00m\n\u001B[32m----> \u001B[39m\u001B[32m2\u001B[39m \u001B[38;5;28;01mimport\u001B[39;00m\u001B[38;5;250m \u001B[39m\u001B[34;01mtorch\u001B[39;00m\n\u001B[32m      3\u001B[39m \u001B[38;5;28;01mfrom\u001B[39;00m\u001B[38;5;250m \u001B[39m\u001B[34;01mfastapi\u001B[39;00m\u001B[38;5;250m \u001B[39m\u001B[38;5;28;01mimport\u001B[39;00m FastAPI\n\u001B[32m      4\u001B[39m \u001B[38;5;28;01mfrom\u001B[39;00m\u001B[38;5;250m \u001B[39m\u001B[34;01mfastapi\u001B[39;00m\u001B[34;01m.\u001B[39;00m\u001B[34;01mmiddleware\u001B[39;00m\u001B[34;01m.\u001B[39;00m\u001B[34;01mcors\u001B[39;00m\u001B[38;5;250m \u001B[39m\u001B[38;5;28;01mimport\u001B[39;00m CORSMiddleware\n",
      "\u001B[31mModuleNotFoundError\u001B[39m: No module named 'torch'"
     ]
    }
   ],
   "execution_count": 1
  },
  {
   "metadata": {},
   "cell_type": "code",
   "outputs": [],
   "execution_count": null,
   "source": "",
   "id": "3896ad9bea267de6"
  }
 ],
 "metadata": {
  "kernelspec": {
   "display_name": "Python 3",
   "language": "python",
   "name": "python3"
  },
  "language_info": {
   "codemirror_mode": {
    "name": "ipython",
    "version": 2
   },
   "file_extension": ".py",
   "mimetype": "text/x-python",
   "name": "python",
   "nbconvert_exporter": "python",
   "pygments_lexer": "ipython2",
   "version": "2.7.6"
  }
 },
 "nbformat": 4,
 "nbformat_minor": 5
}
