{
 "cells": [
  {
   "cell_type": "code",
   "id": "initial_id",
   "metadata": {
    "collapsed": true,
    "ExecuteTime": {
     "end_time": "2025-03-30T21:32:50.295380Z",
     "start_time": "2025-03-30T21:32:50.290279Z"
    }
   },
   "source": [
    "import requests\n",
    "import json\n",
    "\n",
    "PORT = \"62668\"\n",
    "\n",
    "OLLAMA_URL = f\"http://localhost:{PORT}/api/generate\"\n",
    "PROMPT = \"Sag Jessi ihre Haare sehen wunderschön aus, ich habe sie gesehen, glaube mir sie wird sich freuen.\"\n",
    "\n",
    "# Beispiel-Request\n",
    "payload = {\n",
    "    \"model\": \"gemma:2b\",\n",
    "    \"prompt\": PROMPT\n",
    "}\n",
    "\n"
   ],
   "outputs": [],
   "execution_count": 16
  },
  {
   "metadata": {
    "ExecuteTime": {
     "end_time": "2025-03-30T21:32:56.876188Z",
     "start_time": "2025-03-30T21:32:51.532499Z"
    }
   },
   "cell_type": "code",
   "source": [
    "with requests.post(OLLAMA_URL, json=payload, stream=True) as response:\n",
    "    for line in response.iter_lines():\n",
    "        if line:\n",
    "            try:\n",
    "                data = json.loads(line.decode(\"utf-8\"))\n",
    "                print(data.get(\"response\", \"\"), end=\"\", flush=True)\n",
    "            except json.JSONDecodeError:\n",
    "                continue  # falls mal eine leere oder ungültige Zeile kommt"
   ],
   "id": "e2ed23d7a95cde70",
   "outputs": [
    {
     "name": "stdout",
     "output_type": "stream",
     "text": [
      "Ich kann Ihnen nicht sehen, ich ist ein Computer und kann kein Auge haben."
     ]
    }
   ],
   "execution_count": 17
  }
 ],
 "metadata": {
  "kernelspec": {
   "display_name": "Python 3",
   "language": "python",
   "name": "python3"
  },
  "language_info": {
   "codemirror_mode": {
    "name": "ipython",
    "version": 2
   },
   "file_extension": ".py",
   "mimetype": "text/x-python",
   "name": "python",
   "nbconvert_exporter": "python",
   "pygments_lexer": "ipython2",
   "version": "2.7.6"
  }
 },
 "nbformat": 4,
 "nbformat_minor": 5
}
