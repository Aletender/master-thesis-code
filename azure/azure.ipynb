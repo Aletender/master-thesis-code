{
 "cells": [
  {
   "cell_type": "code",
   "id": "initial_id",
   "metadata": {
    "collapsed": true,
    "ExecuteTime": {
     "end_time": "2025-06-22T12:24:56.844420Z",
     "start_time": "2025-06-22T12:24:56.010067Z"
    }
   },
   "source": [
    "from pymongo import MongoClient\n",
    "import pandas as pd"
   ],
   "outputs": [],
   "execution_count": 1
  },
  {
   "metadata": {
    "ExecuteTime": {
     "end_time": "2025-06-22T12:24:57.012073Z",
     "start_time": "2025-06-22T12:24:56.855427Z"
    }
   },
   "cell_type": "code",
   "source": [
    "# Verbindung zur lokalen MongoDB (Standardport)\n",
    "client = MongoClient(\"mongodb://localhost:27017/\")\n",
    "\n",
    "# Datenbank und Collection auswählen\n",
    "db = client[\"thesis\"]\n",
    "collection = db[\"products\"]\n",
    "\n",
    "# Beispielhafte Dokumente abrufen\n",
    "documents = list(collection.find().limit(2))\n",
    "\n",
    "# Als DataFrame anzeigen\n",
    "df = pd.DataFrame(documents)\n",
    "print(df.head())"
   ],
   "id": "90e79014f3a6f8e3",
   "outputs": [
    {
     "name": "stdout",
     "output_type": "stream",
     "text": [
      "                        _id                                 name  \\\n",
      "0  68385ad9ebfb5afd7e144e47               Royal Canin Mini Adult   \n",
      "1  68385ad9ebfb5afd7e144e48      Whiskas Knuspertaschen mit Huhn   \n",
      "2  68385ad9ebfb5afd7e144e49     Vitakraft Kräcker Honig & Dinkel   \n",
      "3  68385ad9ebfb5afd7e144e4a  TetraMin Hauptfutter für Zierfische   \n",
      "4  68385ad9ebfb5afd7e144e4b        JR Farm Wellensittich-Schmaus   \n",
      "\n",
      "                                         description  price            sku  \\\n",
      "0  Alleinfuttermittel für ausgewachsene Hunde kle...  18.99  3182550793147   \n",
      "1             Snack für Katzen mit leckerer Füllung.   1.49  4008429036986   \n",
      "2  Knabbersticks für Kaninchen, dreifach gebacken...   2.79  4008239252348   \n",
      "3    Hauptfutter in Flockenform für alle Zierfische.   5.49  4004218745989   \n",
      "4      Ausgewogenes Alleinfutter für Wellensittiche.   3.29  4024344001112   \n",
      "\n",
      "  category        brand  stockQuantity   shelfLocation  isColdStorage  \\\n",
      "0  Nahrung  Royal Canin            120  Regal B1 Mitte          False   \n",
      "1  Nahrung      Whiskas            250   Regal C2 oben          False   \n",
      "2  Nahrung    Vitakraft             70   Regal G1 oben          False   \n",
      "3  Nahrung        Tetra            150  Regal F1 unten          False   \n",
      "4  Nahrung      JR Farm            110  Regal G3 mitte          False   \n",
      "\n",
      "  targetAnimal recommendedAgeGroup  weightGrams  packSize  \\\n",
      "0         Hund               Adult          800         1   \n",
      "1        Katze               Adult           60         1   \n",
      "2    Kleintier               Adult          120         2   \n",
      "3        Fisch               Adult          100         1   \n",
      "4        Vogel               Adult          500         1   \n",
      "\n",
      "                                            imageUrl  \\\n",
      "0   https://picsum.photos/seed/rc-mini-adult/600/400   \n",
      "1   https://picsum.photos/seed/whiskas-snack/600/400   \n",
      "2  https://picsum.photos/seed/vitakraft-kraeker/6...   \n",
      "3        https://picsum.photos/seed/tetramin/600/400   \n",
      "4    https://picsum.photos/seed/jr-farm-bird/600/400   \n",
      "\n",
      "                            tags  \n",
      "0  [getreidefrei, kleine-rassen]  \n",
      "1                  [snack, huhn]  \n",
      "2               [honig, knabber]  \n",
      "3          [flocken, zierfische]  \n",
      "4              [vogel, getreide]  \n"
     ]
    }
   ],
   "execution_count": 2
  },
  {
   "metadata": {
    "ExecuteTime": {
     "end_time": "2025-06-22T12:30:38.995899Z",
     "start_time": "2025-06-22T12:30:38.656121Z"
    }
   },
   "cell_type": "code",
   "source": [
    "from openai import AzureOpenAI\n",
    "\n",
    "api_key = \"\"\n",
    "\n",
    "# Azure OpenAI Client konfigurieren\n",
    "client = AzureOpenAI(\n",
    "    api_key=api_key,  # z.B. aus Azure Portal\n",
    "    api_version=\"2024-02-15-preview\",\n",
    "    azure_endpoint=\"https://master-thesis-resource.cognitiveservices.azure.com/openai/deployments/text-embedding-ada-002/embeddings?api-version=2023-05-15\"\n",
    ")\n",
    "\n",
    "# Hilfsfunktion: Text für das Embedding vorbereiten\n",
    "def build_content(doc):\n",
    "    return f\"{doc.get('name', '')} - {doc.get('description', '')} \" \\\n",
    "           f\"Kategorie: {doc.get('category', '')}, Marke: {doc.get('brand', '')}, \" \\\n",
    "           f\"Zieltier: {doc.get('targetAnimal', '')}, Tags: {', '.join(doc.get('tags', []))}\"\n",
    "\n",
    "# Embedding für alle Produkte erzeugen\n",
    "for doc in collection.find({\"contentVector\": {\"$exists\": False}}):\n",
    "    content = build_content(doc)\n",
    "\n",
    "    try:\n",
    "        embedding_response = client.embeddings.create(\n",
    "            model=\"text-embedding-ada-002\",  # DEIN DEPLOYMENT-NAME\n",
    "            input=[content]\n",
    "        )\n",
    "        vector = embedding_response.data[0].embedding\n",
    "\n",
    "        # Update in MongoDB (optional, für späteren Upload in Search Index)\n",
    "        collection.update_one(\n",
    "            {\"_id\": doc[\"_id\"]},\n",
    "            {\"$set\": {\"content\": content, \"contentVector\": vector}}\n",
    "        )\n",
    "    except Exception as e:\n",
    "        print(f\"Fehler bei {doc[\"_id\"]}: {e}\")\n"
   ],
   "id": "626696aa7b5cf986",
   "outputs": [],
   "execution_count": 7
  },
  {
   "metadata": {
    "ExecuteTime": {
     "end_time": "2025-06-22T12:32:50.002253Z",
     "start_time": "2025-06-22T12:32:47.189340Z"
    }
   },
   "cell_type": "code",
   "source": [
    "import requests\n",
    "\n",
    "# Konfiguration\n",
    "search_service = \"thesis-agent-search\"  # ohne .search.windows.net\n",
    "index_name = \"products\"\n",
    "\n",
    "endpoint = f\"https://{search_service}.search.windows.net\"\n",
    "url = f\"{endpoint}/indexes/{index_name}/docs/index?api-version=2024-03-01-Preview\"\n",
    "headers = {\n",
    "    \"Content-Type\": \"application/json\",\n",
    "    \"api-key\": api_key\n",
    "}\n",
    "\n",
    "# Produkte mit contentVector aus MongoDB abrufen\n",
    "docs_with_embedding = collection.find({\"contentVector\": {\"$exists\": True}})\n",
    "\n",
    "# Upload vorbereiten (bulk)\n",
    "payload = {\n",
    "    \"value\": []\n",
    "}\n",
    "\n",
    "for doc in docs_with_embedding:\n",
    "    payload[\"value\"].append({\n",
    "        \"@search.action\": \"mergeOrUpload\",\n",
    "        \"id\": doc.get(\"sku\", str(doc[\"_id\"])),  # fallback auf _id falls kein SKU vorhanden\n",
    "        \"name\": doc.get(\"name\", \"\"),\n",
    "        \"description\": doc.get(\"description\", \"\"),\n",
    "        \"price\": doc.get(\"price\", 0),\n",
    "        \"tags\": doc.get(\"tags\", []),\n",
    "        \"content\": doc.get(\"content\", \"\"),\n",
    "        \"contentVector\": doc.get(\"contentVector\", [])\n",
    "    })\n",
    "\n",
    "# Request senden\n",
    "response = requests.post(url, headers=headers, json=payload)\n",
    "\n",
    "# Antwort prüfen\n",
    "if response.status_code == 200:\n",
    "    print(\"Alle Dokumente erfolgreich an Azure Search Index übermittelt.\")\n",
    "else:\n",
    "    print(\"Fehler beim Upload:\")\n",
    "    print(response.status_code, response.text)\n"
   ],
   "id": "1f5639277f35f7c3",
   "outputs": [
    {
     "name": "stdout",
     "output_type": "stream",
     "text": [
      "Alle Dokumente erfolgreich an Azure Search Index übermittelt.\n"
     ]
    }
   ],
   "execution_count": 9
  }
 ],
 "metadata": {
  "kernelspec": {
   "display_name": "Python 3",
   "language": "python",
   "name": "python3"
  },
  "language_info": {
   "codemirror_mode": {
    "name": "ipython",
    "version": 2
   },
   "file_extension": ".py",
   "mimetype": "text/x-python",
   "name": "python",
   "nbconvert_exporter": "python",
   "pygments_lexer": "ipython2",
   "version": "2.7.6"
  }
 },
 "nbformat": 4,
 "nbformat_minor": 5
}
